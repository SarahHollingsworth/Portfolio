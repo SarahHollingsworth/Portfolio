{
 "cells": [
  {
   "cell_type": "markdown",
   "id": "cb14b3a3",
   "metadata": {},
   "source": [
    "### Update a Dataframe"
   ]
  },
  {
   "cell_type": "code",
   "execution_count": 1,
   "id": "befee2e8",
   "metadata": {},
   "outputs": [
    {
     "name": "stdout",
     "output_type": "stream",
     "text": [
      "Index(['no', 'date', 'company_name', 'price_at_close', 'price_change',\n",
      "       'price_after_hours', 'previous_close', 'today opened', 'price range',\n",
      "       '52 week range', 'volume', 'average volume', 'market cap',\n",
      "       'beta (3Y Monthly)', 'PE Ratio', 'EPS', 'earnings date',\n",
      "       'Dividend Yield', '1Y target est'],\n",
      "      dtype='object')\n",
      "no                     int64\n",
      "date                  object\n",
      "company_name          object\n",
      "price_at_close       float64\n",
      "price_change          object\n",
      "price_after_hours    float64\n",
      "previous_close       float64\n",
      "today opened         float64\n",
      "price range           object\n",
      "52 week range         object\n",
      "volume                object\n",
      "average volume       float64\n",
      "market cap            object\n",
      "beta (3Y Monthly)    float64\n",
      "PE Ratio             float64\n",
      "EPS                  float64\n",
      "earnings date         object\n",
      "Dividend Yield        object\n",
      "1Y target est        float64\n",
      "dtype: object\n"
     ]
    }
   ],
   "source": [
    "#Create a new column using the date column.\n",
    "import pandas as pd\n",
    "import numpy as np\n",
    "df = pd.read_csv('https://raw.githubusercontent.com/frankData612/data_612/master/stock_data/stocks_yahoo.csv', low_memory=False)\n",
    "print(df.columns)\n",
    "print(df.dtypes)\n",
    "df['mkt_close_date'] = pd.to_datetime(df['date'])"
   ]
  },
  {
   "cell_type": "code",
   "execution_count": 2,
   "id": "c4b19875",
   "metadata": {},
   "outputs": [
    {
     "name": "stdout",
     "output_type": "stream",
     "text": [
      "2020-04-28 00:00:00\n"
     ]
    }
   ],
   "source": [
    "#Find the maximum date of your data.\n",
    "max_date = (df['mkt_close_date'].max())\n",
    "print(max_date)"
   ]
  },
  {
   "cell_type": "code",
   "execution_count": 3,
   "id": "0ab41e97",
   "metadata": {},
   "outputs": [
    {
     "name": "stdout",
     "output_type": "stream",
     "text": [
      "0       159 days\n",
      "1       159 days\n",
      "2       159 days\n",
      "3       159 days\n",
      "4       159 days\n",
      "          ...   \n",
      "67900     0 days\n",
      "67901     0 days\n",
      "67902     0 days\n",
      "67903     0 days\n",
      "67904     0 days\n",
      "Name: mkt_close_date, Length: 67905, dtype: timedelta64[ns]\n"
     ]
    }
   ],
   "source": [
    "#Subtract all the dates on the column from the maximum date.\n",
    "days_from_max = (max_date - df['mkt_close_date'])\n",
    "print(days_from_max)"
   ]
  },
  {
   "cell_type": "code",
   "execution_count": 4,
   "id": "252dd4d0",
   "metadata": {},
   "outputs": [
    {
     "name": "stdout",
     "output_type": "stream",
     "text": [
      "0        5.223927\n",
      "1        5.223927\n",
      "2        5.223927\n",
      "3        5.223927\n",
      "4        5.223927\n",
      "           ...   \n",
      "67900    0.000000\n",
      "67901    0.000000\n",
      "67902    0.000000\n",
      "67903    0.000000\n",
      "67904    0.000000\n",
      "Name: month_from_max, Length: 67905, dtype: float64\n"
     ]
    }
   ],
   "source": [
    "#Convert the number of days into number of months.\n",
    "df['month_from_max'] =  (days_from_max / np.timedelta64(1, 'M'))\n",
    "print(df['month_from_max'])"
   ]
  },
  {
   "cell_type": "markdown",
   "id": "18a8f0cb",
   "metadata": {},
   "source": [
    "### Combine two datasets using a single attribute"
   ]
  },
  {
   "cell_type": "code",
   "execution_count": 6,
   "id": "0b42097d",
   "metadata": {},
   "outputs": [],
   "source": [
    "#Find another data set, series, text data or a column from another \n",
    "#data source and merge with your selected data set.\n",
    "import pandas as pd\n",
    "homegames_df = pd.read_csv('https://raw.githubusercontent.com/frankData612/data_612/master/baseballdatabank-master/core/HomeGames.csv')\n",
    "parks_df = pd.read_csv('https://raw.githubusercontent.com/frankData612/data_612/master/baseballdatabank-master/core/Parks.csv')\n",
    "combined_df = homegames_df.merge(parks_df, left_on='park.key', right_on='park.key')"
   ]
  },
  {
   "cell_type": "code",
   "execution_count": 7,
   "id": "64f40af9",
   "metadata": {},
   "outputs": [
    {
     "name": "stdout",
     "output_type": "stream",
     "text": [
      "<class 'pandas.core.frame.DataFrame'>\n",
      "Int64Index: 3108 entries, 0 to 3107\n",
      "Data columns (total 14 columns):\n",
      " #   Column      Non-Null Count  Dtype \n",
      "---  ------      --------------  ----- \n",
      " 0   year.key    3108 non-null   int64 \n",
      " 1   league.key  3031 non-null   object\n",
      " 2   team.key    3108 non-null   object\n",
      " 3   park.key    3108 non-null   object\n",
      " 4   span.first  3108 non-null   object\n",
      " 5   span.last   3108 non-null   object\n",
      " 6   games       3108 non-null   int64 \n",
      " 7   openings    3108 non-null   int64 \n",
      " 8   attendance  3108 non-null   int64 \n",
      " 9   park.name   3108 non-null   object\n",
      " 10  park.alias  1395 non-null   object\n",
      " 11  city        3108 non-null   object\n",
      " 12  state       3103 non-null   object\n",
      " 13  country     3108 non-null   object\n",
      "dtypes: int64(4), object(10)\n",
      "memory usage: 364.2+ KB\n",
      "None\n"
     ]
    }
   ],
   "source": [
    "#Identify the missing values on your data set.\n",
    "print(combined_df.info())"
   ]
  },
  {
   "cell_type": "code",
   "execution_count": 9,
   "id": "d006fa1e",
   "metadata": {},
   "outputs": [
    {
     "name": "stdout",
     "output_type": "stream",
     "text": [
      "year.key         0\n",
      "league.key      77\n",
      "team.key         0\n",
      "park.key         0\n",
      "span.first       0\n",
      "span.last        0\n",
      "games            0\n",
      "openings         0\n",
      "attendance       0\n",
      "park.name        0\n",
      "park.alias    1713\n",
      "city             0\n",
      "state            5\n",
      "country          0\n",
      "dtype: int64\n"
     ]
    }
   ],
   "source": [
    "#Count the missing values on your data set\n",
    "number_missing = combined_df.shape[0] - combined_df.count()\n",
    "print(number_missing)"
   ]
  },
  {
   "cell_type": "code",
   "execution_count": 10,
   "id": "2a2da8ed",
   "metadata": {},
   "outputs": [
    {
     "name": "stdout",
     "output_type": "stream",
     "text": [
      "<class 'pandas.core.frame.DataFrame'>\n",
      "Int64Index: 3108 entries, 0 to 3107\n",
      "Data columns (total 14 columns):\n",
      " #   Column      Non-Null Count  Dtype \n",
      "---  ------      --------------  ----- \n",
      " 0   year.key    3108 non-null   int64 \n",
      " 1   league.key  3102 non-null   object\n",
      " 2   team.key    3108 non-null   object\n",
      " 3   park.key    3108 non-null   object\n",
      " 4   span.first  3108 non-null   object\n",
      " 5   span.last   3108 non-null   object\n",
      " 6   games       3108 non-null   int64 \n",
      " 7   openings    3108 non-null   int64 \n",
      " 8   attendance  3108 non-null   int64 \n",
      " 9   park.name   3108 non-null   object\n",
      " 10  park.alias  3108 non-null   object\n",
      " 11  city        3108 non-null   object\n",
      " 12  state       3108 non-null   object\n",
      " 13  country     3108 non-null   object\n",
      "dtypes: int64(4), object(10)\n",
      "memory usage: 364.2+ KB\n",
      "None\n"
     ]
    }
   ],
   "source": [
    "#Clean your data set from the missing values\n",
    "combined_df = combined_df.fillna(method='ffill')\n",
    "print(combined_df.info())"
   ]
  },
  {
   "cell_type": "code",
   "execution_count": 11,
   "id": "baa24be0",
   "metadata": {},
   "outputs": [
    {
     "name": "stdout",
     "output_type": "stream",
     "text": [
      "<class 'pandas.core.frame.DataFrame'>\n",
      "Int64Index: 3108 entries, 0 to 3107\n",
      "Data columns (total 14 columns):\n",
      " #   Column      Non-Null Count  Dtype \n",
      "---  ------      --------------  ----- \n",
      " 0   year.key    3108 non-null   int64 \n",
      " 1   league.key  3108 non-null   object\n",
      " 2   team.key    3108 non-null   object\n",
      " 3   park.key    3108 non-null   object\n",
      " 4   span.first  3108 non-null   object\n",
      " 5   span.last   3108 non-null   object\n",
      " 6   games       3108 non-null   int64 \n",
      " 7   openings    3108 non-null   int64 \n",
      " 8   attendance  3108 non-null   int64 \n",
      " 9   park.name   3108 non-null   object\n",
      " 10  park.alias  3108 non-null   object\n",
      " 11  city        3108 non-null   object\n",
      " 12  state       3108 non-null   object\n",
      " 13  country     3108 non-null   object\n",
      "dtypes: int64(4), object(10)\n",
      "memory usage: 364.2+ KB\n",
      "None\n"
     ]
    }
   ],
   "source": [
    "#Clean your data set from the missing values\n",
    "combined_df = combined_df.fillna(method='bfill')\n",
    "print(combined_df.info())"
   ]
  },
  {
   "cell_type": "markdown",
   "id": "6bf68bbd",
   "metadata": {},
   "source": [
    "### Convert data types in a dataframe"
   ]
  },
  {
   "cell_type": "code",
   "execution_count": 12,
   "id": "da4484c4",
   "metadata": {},
   "outputs": [
    {
     "name": "stdout",
     "output_type": "stream",
     "text": [
      "year.key       int64\n",
      "league.key    object\n",
      "team.key      object\n",
      "park.key      object\n",
      "span.first    object\n",
      "span.last     object\n",
      "games          int64\n",
      "openings       int64\n",
      "attendance     int64\n",
      "dtype: object\n"
     ]
    }
   ],
   "source": [
    "df = pd.read_csv('https://raw.githubusercontent.com/frankData612/data_612/master/baseballdatabank-master/core/HomeGames.csv')\n",
    "print(df.dtypes)"
   ]
  },
  {
   "cell_type": "code",
   "execution_count": 13,
   "id": "acfa5855",
   "metadata": {},
   "outputs": [
    {
     "name": "stdout",
     "output_type": "stream",
     "text": [
      "year.key         int64\n",
      "league.key    category\n",
      "team.key        object\n",
      "park.key        object\n",
      "span.first      object\n",
      "span.last       object\n",
      "games            int64\n",
      "openings         int64\n",
      "attendance       int64\n",
      "dtype: object\n"
     ]
    }
   ],
   "source": [
    "#Covert a column of non-categorical type into a categorical type.\n",
    "df['league.key'] = df['league.key'].astype('category')\n",
    "print(df.dtypes)"
   ]
  },
  {
   "cell_type": "code",
   "execution_count": 14,
   "id": "37690c60",
   "metadata": {},
   "outputs": [
    {
     "name": "stdout",
     "output_type": "stream",
     "text": [
      "year.key         int64\n",
      "league.key    category\n",
      "team.key        object\n",
      "park.key        object\n",
      "span.first      object\n",
      "span.last       object\n",
      "games           object\n",
      "openings         int64\n",
      "attendance       int64\n",
      "dtype: object\n"
     ]
    }
   ],
   "source": [
    "#Convert another column into a string type.\n",
    "df['games'] = df['games'].astype('str')\n",
    "print(df.dtypes)"
   ]
  },
  {
   "cell_type": "markdown",
   "id": "923fba2f",
   "metadata": {},
   "source": [
    "### Using regular expression, clean a column in a dataframe"
   ]
  },
  {
   "cell_type": "code",
   "execution_count": 15,
   "id": "c726837b",
   "metadata": {},
   "outputs": [
    {
     "name": "stdout",
     "output_type": "stream",
     "text": [
      "   Unnamed: 0 Utilization Type State  Labeler Code  Product Code  \\\n",
      "0      128037             MCOU    MA         37205           137   \n",
      "1      491755             FFSU    FL         62756           763   \n",
      "2     2568076             FFSU    UT         46987           323   \n",
      "3      491263             FFSU    MN           781          5185   \n",
      "4      836489             FFSU    XX         51552           809   \n",
      "\n",
      "   Package Size  Year  Quarter Product Name  Units Reimbursed  ...  \\\n",
      "0             5  2010        4   ARTIFICIAL            15.000  ...   \n",
      "1            88  2010        1    TORSEMIDE           255.000  ...   \n",
      "2            11  2010        2   Kadian Ora           120.000  ...   \n",
      "3             1  2010        4   LEVOTHYROX          1114.000  ...   \n",
      "4             6  2010        2   COLD CREAM           226.089  ...   \n",
      "\n",
      "   Number of Prescriptions  Total Amount Reimbursed  \\\n",
      "0                        1                     4.08   \n",
      "1                        8                   103.33   \n",
      "2                        2                   905.24   \n",
      "3                       34                   312.22   \n",
      "4                        7                    52.87   \n",
      "\n",
      "   Medicaid Amount Reimbursed  Non Medicaid Amount Reimbursed  Quarter Begin  \\\n",
      "0                        4.08                             0.0           10/1   \n",
      "1                      103.33                             0.0            1/1   \n",
      "2                      905.24                             0.0            4/1   \n",
      "3                      306.22                             6.0           10/1   \n",
      "4                       52.87                             0.0            4/1   \n",
      "\n",
      "  Quarter Begin Date Latitude  Longitude             Location          NDC  \n",
      "0         10/01/2010  31.1801   -91.8749  (31.1801, -91.8749)  37205013705  \n",
      "1         01/01/2010  39.3498   -75.5148  (39.3498, -75.5148)  62756076388  \n",
      "2         04/01/2010  44.2853   -99.4632  (44.2853, -99.4632)  46987032311  \n",
      "3         10/01/2010  43.3504   -84.5603  (43.3504, -84.5603)    781518501  \n",
      "4         04/01/2010      NaN        NaN                  NaN  51552080906  \n",
      "\n",
      "[5 rows x 21 columns]\n",
      "        Unnamed: 0 Utilization Type State  Labeler Code  Product Code  \\\n",
      "156215     2752214             MCOU    XX         63868            17   \n",
      "156216     2519195             MCOU    MI           121           489   \n",
      "156217      815768             MCOU    MD         60432           133   \n",
      "156218     2029158             FFSU    DE            88          1109   \n",
      "156219     2799238             FFSU    DE            29          1527   \n",
      "\n",
      "        Package Size  Year  Quarter Product Name  Units Reimbursed  ...  \\\n",
      "156215             1  2010        2   QC DOCUSAT             540.0  ...   \n",
      "156216            10  2010        4   DIPHENHYDR            1970.0  ...   \n",
      "156217            25  2010        4   CLOBETASOL              75.0  ...   \n",
      "156218            47  2010        4   ALLEGRA (F              60.0  ...   \n",
      "156219            25  2010        1   BACTROBAN(             360.0  ...   \n",
      "\n",
      "        Number of Prescriptions  Total Amount Reimbursed  \\\n",
      "156215                       10                    41.15   \n",
      "156216                       12                    16.48   \n",
      "156217                        3                    32.24   \n",
      "156218                        2                   152.68   \n",
      "156219                       12                   896.33   \n",
      "\n",
      "        Medicaid Amount Reimbursed  Non Medicaid Amount Reimbursed  \\\n",
      "156215                       41.15                            0.00   \n",
      "156216                       16.48                            0.00   \n",
      "156217                       30.24                            2.00   \n",
      "156218                      146.68                            6.00   \n",
      "156219                      705.82                          190.51   \n",
      "\n",
      "        Quarter Begin Quarter Begin Date Latitude  Longitude  \\\n",
      "156215            4/1         04/01/2010      NaN        NaN   \n",
      "156216           10/1         10/01/2010  44.6074   -69.3977   \n",
      "156217           10/1         10/01/2010  42.2373   -71.5314   \n",
      "156218           10/1         10/01/2010  38.8964   -77.0262   \n",
      "156219            1/1         01/01/2010  38.8964   -77.0262   \n",
      "\n",
      "                   Location          NDC  \n",
      "156215                  NaN  63868001701  \n",
      "156216  (44.6074, -69.3977)    121048910  \n",
      "156217  (42.2373, -71.5314)  60432013325  \n",
      "156218  (38.8964, -77.0262)     88110947  \n",
      "156219  (38.8964, -77.0262)     29152725  \n",
      "\n",
      "[5 rows x 21 columns]\n"
     ]
    }
   ],
   "source": [
    "import re\n",
    "import numpy as np\n",
    "df = pd.read_csv('https://raw.githubusercontent.com/frankData612/data_612/master/State_Drug_Utilization_Data_2010/State_Drug_Utilization_Data_2010.csv')\n",
    "print(df.head())\n",
    "print(df.tail())"
   ]
  },
  {
   "cell_type": "code",
   "execution_count": 16,
   "id": "803dfd26",
   "metadata": {},
   "outputs": [
    {
     "name": "stdout",
     "output_type": "stream",
     "text": [
      "   Unnamed: 0 Utilization Type State  Labeler Code  Product Code  \\\n",
      "0      128037             MCOU    MA         37205           137   \n",
      "1      491755             FFSU    FL         62756           763   \n",
      "2     2568076             FFSU    UT         46987           323   \n",
      "3      491263             FFSU    MN           781          5185   \n",
      "4      836489             FFSU    XX         51552           809   \n",
      "\n",
      "   Package Size  Year  Quarter Product Name  Units Reimbursed  ...  \\\n",
      "0             5  2010        4   ARTIFICIAL            15.000  ...   \n",
      "1            88  2010        1    TORSEMIDE           255.000  ...   \n",
      "2            11  2010        2   Kadian Ora           120.000  ...   \n",
      "3             1  2010        4   LEVOTHYROX          1114.000  ...   \n",
      "4             6  2010        2   COLD CREAM           226.089  ...   \n",
      "\n",
      "   Total Amount Reimbursed  Medicaid Amount Reimbursed  \\\n",
      "0                     4.08                        4.08   \n",
      "1                   103.33                      103.33   \n",
      "2                   905.24                      905.24   \n",
      "3                   312.22                      306.22   \n",
      "4                    52.87                       52.87   \n",
      "\n",
      "   Non Medicaid Amount Reimbursed  Quarter Begin  Quarter Begin Date Latitude  \\\n",
      "0                             0.0           10/1          10/01/2010  31.1801   \n",
      "1                             0.0            1/1          01/01/2010  39.3498   \n",
      "2                             0.0            4/1          04/01/2010  44.2853   \n",
      "3                             6.0           10/1          10/01/2010  43.3504   \n",
      "4                             0.0            4/1          04/01/2010      NaN   \n",
      "\n",
      "  Longitude             Location          NDC State_cleaned  \n",
      "0  -91.8749  (31.1801, -91.8749)  37205013705            MA  \n",
      "1  -75.5148  (39.3498, -75.5148)  62756076388            FL  \n",
      "2  -99.4632  (44.2853, -99.4632)  46987032311            UT  \n",
      "3  -84.5603  (43.3504, -84.5603)    781518501            MN  \n",
      "4       NaN                  NaN  51552080906           NaN  \n",
      "\n",
      "[5 rows x 22 columns]\n",
      "        Unnamed: 0 Utilization Type State  Labeler Code  Product Code  \\\n",
      "156215     2752214             MCOU    XX         63868            17   \n",
      "156216     2519195             MCOU    MI           121           489   \n",
      "156217      815768             MCOU    MD         60432           133   \n",
      "156218     2029158             FFSU    DE            88          1109   \n",
      "156219     2799238             FFSU    DE            29          1527   \n",
      "\n",
      "        Package Size  Year  Quarter Product Name  Units Reimbursed  ...  \\\n",
      "156215             1  2010        2   QC DOCUSAT             540.0  ...   \n",
      "156216            10  2010        4   DIPHENHYDR            1970.0  ...   \n",
      "156217            25  2010        4   CLOBETASOL              75.0  ...   \n",
      "156218            47  2010        4   ALLEGRA (F              60.0  ...   \n",
      "156219            25  2010        1   BACTROBAN(             360.0  ...   \n",
      "\n",
      "        Total Amount Reimbursed  Medicaid Amount Reimbursed  \\\n",
      "156215                    41.15                       41.15   \n",
      "156216                    16.48                       16.48   \n",
      "156217                    32.24                       30.24   \n",
      "156218                   152.68                      146.68   \n",
      "156219                   896.33                      705.82   \n",
      "\n",
      "        Non Medicaid Amount Reimbursed  Quarter Begin  Quarter Begin Date  \\\n",
      "156215                            0.00            4/1          04/01/2010   \n",
      "156216                            0.00           10/1          10/01/2010   \n",
      "156217                            2.00           10/1          10/01/2010   \n",
      "156218                            6.00           10/1          10/01/2010   \n",
      "156219                          190.51            1/1          01/01/2010   \n",
      "\n",
      "       Latitude Longitude             Location          NDC State_cleaned  \n",
      "156215      NaN       NaN                  NaN  63868001701           NaN  \n",
      "156216  44.6074  -69.3977  (44.6074, -69.3977)    121048910            MI  \n",
      "156217  42.2373  -71.5314  (42.2373, -71.5314)  60432013325            MD  \n",
      "156218  38.8964  -77.0262  (38.8964, -77.0262)     88110947            DE  \n",
      "156219  38.8964  -77.0262  (38.8964, -77.0262)     29152725            DE  \n",
      "\n",
      "[5 rows x 22 columns]\n"
     ]
    }
   ],
   "source": [
    "#Working with strings\n",
    "#Clean a column on your data set using regular expression methods.\n",
    "#Store the cleaned column into another column of your data set and \n",
    "#call it “your_col_name_cleaned”\n",
    "df['State_cleaned'] = [re.sub('XX','',x) for x in df['State']]\n",
    "df['State_cleaned'] = df['State_cleaned'].replace('', np.NaN)\n",
    "print(df.head())\n",
    "print(df.tail())"
   ]
  },
  {
   "cell_type": "code",
   "execution_count": null,
   "id": "e9933b01",
   "metadata": {},
   "outputs": [],
   "source": []
  },
  {
   "cell_type": "code",
   "execution_count": null,
   "id": "3c379935",
   "metadata": {},
   "outputs": [],
   "source": []
  }
 ],
 "metadata": {
  "kernelspec": {
   "display_name": "Python 3 (ipykernel)",
   "language": "python",
   "name": "python3"
  },
  "language_info": {
   "codemirror_mode": {
    "name": "ipython",
    "version": 3
   },
   "file_extension": ".py",
   "mimetype": "text/x-python",
   "name": "python",
   "nbconvert_exporter": "python",
   "pygments_lexer": "ipython3",
   "version": "3.9.13"
  }
 },
 "nbformat": 4,
 "nbformat_minor": 5
}
