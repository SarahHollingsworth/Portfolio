{
 "cells": [
  {
   "cell_type": "markdown",
   "id": "f011603a",
   "metadata": {},
   "source": [
    "### Explore a Dataset"
   ]
  },
  {
   "cell_type": "code",
   "execution_count": 1,
   "id": "9b1535f5",
   "metadata": {},
   "outputs": [
    {
     "name": "stdout",
     "output_type": "stream",
     "text": [
      "   no         date                                       company_name  \\\n",
      "0   1  Nov 21 2019                               GOOG - Alphabet Inc.   \n",
      "1   2  Nov 21 2019                              GOOGL - Alphabet Inc.   \n",
      "2   3  Nov 21 2019  IBM - International Business Machines Corporation   \n",
      "3   4  Nov 21 2019                       MSFT - Microsoft Corporation   \n",
      "4   5  Nov 21 2019                                  AAPL - Apple Inc.   \n",
      "\n",
      "   price_at_close    price_change  price_after_hours  previous_close  \\\n",
      "0         1301.35  -1.70 (-0.13%)            1301.35         1303.05   \n",
      "1         1300.14  -1.72 (-0.13%)            1300.14         1301.86   \n",
      "2          133.84  +0.64 (+0.48%)             133.84          133.20   \n",
      "3          149.48  -0.14 (-0.09%)             149.48          149.62   \n",
      "4          262.01  -1.18 (-0.45%)             262.01          263.19   \n",
      "\n",
      "   today opened          price range      52 week range       volume  \\\n",
      "0       1301.48  1,293.01 - 1,312.45  970.11 - 1,335.53    825205.00   \n",
      "1       1299.25  1,290.75 - 1,311.04  977.66 - 1,333.92   1058179.00   \n",
      "2        133.40      132.98 - 134.17    105.94 - 152.95   2732256.00   \n",
      "3        149.40      148.51 - 149.80     93.96 - 151.33  16125077.00   \n",
      "4        263.69      261.18 - 264.01    142.00 - 268.00  28768117.00   \n",
      "\n",
      "   average volume market cap  beta (3Y Monthly)  PE Ratio    EPS  \\\n",
      "0       1280155.0   897.113B               1.01     27.93  46.60   \n",
      "1       1296875.0   897.098B               1.01     27.90  46.60   \n",
      "2       3483052.0   118.534B               1.34     15.55   8.60   \n",
      "3      22813109.0      1.14T               1.23     28.20   5.30   \n",
      "4      25813040.0     1.184T               1.25     22.04  11.89   \n",
      "\n",
      "                 earnings date Dividend Yield  1Y target est  \n",
      "0                          NaN      N/A (N/A)        1487.52  \n",
      "1    Feb 3, 2020 - Feb 7, 2020      N/A (N/A)        1459.33  \n",
      "2                    21-Jan-20   6.48 (4.86%)         148.30  \n",
      "3   Jan 28, 2020 - Feb 3, 2020   2.04 (1.36%)         160.16  \n",
      "4  Jan 27, 2020 - Jan 31, 2020   3.08 (1.16%)         257.21  \n",
      "          no         date                     company_name  price_at_close  \\\n",
      "67900  67901  Apr 28 2020                 FLEX - Flex Ltd.            9.11   \n",
      "67901  67902  Apr 28 2020  MEI - Methode Electronics, Inc.           29.84   \n",
      "67902  67903  Apr 28 2020      IEC - IEC Electronics Corp.            7.01   \n",
      "67903  67904  Apr 28 2020     MGLN - Magellan Health, Inc.           55.11   \n",
      "67904  67905  Apr 28 2020               ZS - Zscaler, Inc.           66.72   \n",
      "\n",
      "         price_change  price_after_hours  previous_close  today opened  \\\n",
      "67900  +0.30 (+3.41%)               9.11            8.81          9.11   \n",
      "67901  +0.32 (+1.08%)              29.84           29.52         30.19   \n",
      "67902    0.00 (0.00%)               7.01            7.01          7.10   \n",
      "67903  -0.03 (-0.05%)              55.11           55.14         54.74   \n",
      "67904  -3.75 (-5.32%)              66.72           70.47         71.00   \n",
      "\n",
      "         price range  52 week range      volume  average volume market cap  \\\n",
      "67900    8.87 - 9.31   5.36 - 14.00  4175426.00       5924769.0     4.591B   \n",
      "67901  29.70 - 30.75  21.76 - 41.70   206184.00        236257.0     1.107B   \n",
      "67902    6.93 - 7.10    5.00 - 9.57     3880.00         34352.0    72.812M   \n",
      "67903  53.28 - 56.21  30.60 - 81.04   167075.00        193042.0     1.361B   \n",
      "67904  66.26 - 71.20  35.00 - 89.54  3035697.00       3062403.0      8.63B   \n",
      "\n",
      "       beta (3Y Monthly)  PE Ratio   EPS                earnings date  \\\n",
      "67900               1.88       NaN -0.05                     7-May-20   \n",
      "67901               1.43      9.72  3.07  Jun 18, 2020 - Jun 22, 2020   \n",
      "67902               0.94     15.24  0.46                     6-May-20   \n",
      "67903               0.97     24.17  2.28                    11-May-20   \n",
      "67904               0.54       NaN -0.50                    20-Feb-20   \n",
      "\n",
      "      Dividend Yield  1Y target est  \n",
      "67900      N/A (N/A)          12.83  \n",
      "67901   0.44 (1.49%)          33.33  \n",
      "67902      N/A (N/A)          11.50  \n",
      "67903      N/A (N/A)          67.67  \n",
      "67904      N/A (N/A)          67.62  \n"
     ]
    }
   ],
   "source": [
    "#Select the dataset of your choice from the list provided here.\n",
    "#Load the dataset using Jupyter notebook and explore the data by using the following.\n",
    "import pandas as pd\n",
    "df = pd.read_csv('https://raw.githubusercontent.com/frankData612/data_612/master/stock_data/stocks_yahoo.csv', low_memory=False)\n",
    "\n",
    "#Show the .head() and .tail() of the data set.\n",
    "print(df.head())\n",
    "print(df.tail())"
   ]
  },
  {
   "cell_type": "code",
   "execution_count": 2,
   "id": "0dde8c25",
   "metadata": {},
   "outputs": [
    {
     "name": "stdout",
     "output_type": "stream",
     "text": [
      "   no         date                                       company_name  \\\n",
      "0   1  Nov 21 2019                               GOOG - Alphabet Inc.   \n",
      "1   2  Nov 21 2019                              GOOGL - Alphabet Inc.   \n",
      "2   3  Nov 21 2019  IBM - International Business Machines Corporation   \n",
      "3   4  Nov 21 2019                       MSFT - Microsoft Corporation   \n",
      "4   5  Nov 21 2019                                  AAPL - Apple Inc.   \n",
      "5   6  Nov 21 2019                            AMZN - Amazon.com, Inc.   \n",
      "6   7  Nov 21 2019                    CGC - Canopy Growth Corporation   \n",
      "\n",
      "   price_at_close     price_change  price_after_hours  previous_close  \\\n",
      "0         1301.35   -1.70 (-0.13%)            1301.35         1303.05   \n",
      "1         1300.14   -1.72 (-0.13%)            1300.14         1301.86   \n",
      "2          133.84   +0.64 (+0.48%)             133.84          133.20   \n",
      "3          149.48   -0.14 (-0.09%)             149.48          149.62   \n",
      "4          262.01   -1.18 (-0.45%)             262.01          263.19   \n",
      "5         1734.71  -10.82 (-0.62%)            1734.71         1745.53   \n",
      "6           20.29  +2.65 (+15.02%)              20.29           17.64   \n",
      "\n",
      "   today opened          price range        52 week range       volume  \\\n",
      "0       1301.48  1,293.01 - 1,312.45    970.11 - 1,335.53    825205.00   \n",
      "1       1299.25  1,290.75 - 1,311.04    977.66 - 1,333.92   1058179.00   \n",
      "2        133.40      132.98 - 134.17      105.94 - 152.95   2732256.00   \n",
      "3        149.40      148.51 - 149.80       93.96 - 151.33  16125077.00   \n",
      "4        263.69      261.18 - 264.01      142.00 - 268.00  28768117.00   \n",
      "5       1743.00  1,730.46 - 1,746.80  1,307.00 - 2,035.80   2363912.00   \n",
      "6         19.33        18.54 - 21.56        13.81 - 52.74  38160003.00   \n",
      "\n",
      "   average volume market cap  beta (3Y Monthly)  PE Ratio    EPS  \\\n",
      "0       1280155.0   897.113B               1.01     27.93  46.60   \n",
      "1       1296875.0   897.098B               1.01     27.90  46.60   \n",
      "2       3483052.0   118.534B               1.34     15.55   8.60   \n",
      "3      22813109.0      1.14T               1.23     28.20   5.30   \n",
      "4      25813040.0     1.184T               1.25     22.04  11.89   \n",
      "5       2944623.0   860.064B               1.57     76.87  22.57   \n",
      "6       5954800.0     7.091B               4.11       NaN  -1.79   \n",
      "\n",
      "                 earnings date Dividend Yield  1Y target est  \n",
      "0                          NaN      N/A (N/A)        1487.52  \n",
      "1    Feb 3, 2020 - Feb 7, 2020      N/A (N/A)        1459.33  \n",
      "2                    21-Jan-20   6.48 (4.86%)         148.30  \n",
      "3   Jan 28, 2020 - Feb 3, 2020   2.04 (1.36%)         160.16  \n",
      "4  Jan 27, 2020 - Jan 31, 2020   3.08 (1.16%)         257.21  \n",
      "5   Jan 29, 2020 - Feb 3, 2020      N/A (N/A)        2183.86  \n",
      "6                          NaN      N/A (N/A)            NaN  \n",
      "          no         date                     company_name  price_at_close  \\\n",
      "67898  67899  Apr 28 2020       SANM - Sanmina Corporation           26.93   \n",
      "67899  67900  Apr 28 2020              PLXS - Plexus Corp.           62.36   \n",
      "67900  67901  Apr 28 2020                 FLEX - Flex Ltd.            9.11   \n",
      "67901  67902  Apr 28 2020  MEI - Methode Electronics, Inc.           29.84   \n",
      "67902  67903  Apr 28 2020      IEC - IEC Electronics Corp.            7.01   \n",
      "67903  67904  Apr 28 2020     MGLN - Magellan Health, Inc.           55.11   \n",
      "67904  67905  Apr 28 2020               ZS - Zscaler, Inc.           66.72   \n",
      "\n",
      "         price_change  price_after_hours  previous_close  today opened  \\\n",
      "67898  -0.98 (-3.51%)              26.93           27.91         26.51   \n",
      "67899  +1.80 (+2.97%)              62.36           60.56         61.77   \n",
      "67900  +0.30 (+3.41%)               9.11            8.81          9.11   \n",
      "67901  +0.32 (+1.08%)              29.84           29.52         30.19   \n",
      "67902    0.00 (0.00%)               7.01            7.01          7.10   \n",
      "67903  -0.03 (-0.05%)              55.11           55.14         54.74   \n",
      "67904  -3.75 (-5.32%)              66.72           70.47         71.00   \n",
      "\n",
      "         price range  52 week range      volume  average volume market cap  \\\n",
      "67898  25.69 - 27.77  18.34 - 34.96   674415.00        553044.0     1.902B   \n",
      "67899  61.77 - 64.18  35.16 - 86.53   220017.00        188241.0      1.82B   \n",
      "67900    8.87 - 9.31   5.36 - 14.00  4175426.00       5924769.0     4.591B   \n",
      "67901  29.70 - 30.75  21.76 - 41.70   206184.00        236257.0     1.107B   \n",
      "67902    6.93 - 7.10    5.00 - 9.57     3880.00         34352.0    72.812M   \n",
      "67903  53.28 - 56.21  30.60 - 81.04   167075.00        193042.0     1.361B   \n",
      "67904  66.26 - 71.20  35.00 - 89.54  3035697.00       3062403.0      8.63B   \n",
      "\n",
      "       beta (3Y Monthly)  PE Ratio   EPS                earnings date  \\\n",
      "67898                NaN     18.43  1.46  Jul 27, 2020 - Jul 31, 2020   \n",
      "67899               1.04     17.83  3.50  Jul 15, 2020 - Jul 20, 2020   \n",
      "67900               1.88       NaN -0.05                     7-May-20   \n",
      "67901               1.43      9.72  3.07  Jun 18, 2020 - Jun 22, 2020   \n",
      "67902               0.94     15.24  0.46                     6-May-20   \n",
      "67903               0.97     24.17  2.28                    11-May-20   \n",
      "67904               0.54       NaN -0.50                    20-Feb-20   \n",
      "\n",
      "      Dividend Yield  1Y target est  \n",
      "67898      N/A (N/A)          28.00  \n",
      "67899      N/A (N/A)          66.75  \n",
      "67900      N/A (N/A)          12.83  \n",
      "67901   0.44 (1.49%)          33.33  \n",
      "67902      N/A (N/A)          11.50  \n",
      "67903      N/A (N/A)          67.67  \n",
      "67904      N/A (N/A)          67.62  \n"
     ]
    }
   ],
   "source": [
    "#Specify the number of rows to print using .head() and .tail().\n",
    "print(df.head(n=7))\n",
    "print(df.tail(n=7))"
   ]
  },
  {
   "cell_type": "code",
   "execution_count": 3,
   "id": "e8f0cf1d",
   "metadata": {},
   "outputs": [
    {
     "name": "stdout",
     "output_type": "stream",
     "text": [
      "Index(['no', 'date', 'company_name', 'price_at_close', 'price_change',\n",
      "       'price_after_hours', 'previous_close', 'today opened', 'price range',\n",
      "       '52 week range', 'volume', 'average volume', 'market cap',\n",
      "       'beta (3Y Monthly)', 'PE Ratio', 'EPS', 'earnings date',\n",
      "       'Dividend Yield', '1Y target est'],\n",
      "      dtype='object')\n"
     ]
    }
   ],
   "source": [
    "#Print the column names.\n",
    "print(df.columns)"
   ]
  },
  {
   "cell_type": "code",
   "execution_count": 4,
   "id": "03f01a49",
   "metadata": {},
   "outputs": [
    {
     "name": "stdout",
     "output_type": "stream",
     "text": [
      "<class 'pandas.core.frame.DataFrame'>\n",
      "no                     int64\n",
      "date                  object\n",
      "company_name          object\n",
      "price_at_close       float64\n",
      "price_change          object\n",
      "price_after_hours    float64\n",
      "previous_close       float64\n",
      "today opened         float64\n",
      "price range           object\n",
      "52 week range         object\n",
      "volume                object\n",
      "average volume       float64\n",
      "market cap            object\n",
      "beta (3Y Monthly)    float64\n",
      "PE Ratio             float64\n",
      "EPS                  float64\n",
      "earnings date         object\n",
      "Dividend Yield        object\n",
      "1Y target est        float64\n",
      "dtype: object\n"
     ]
    }
   ],
   "source": [
    "#Print to see what is the type of your data set\n",
    "print(type(df))\n",
    "print(df.dtypes)"
   ]
  },
  {
   "cell_type": "code",
   "execution_count": 5,
   "id": "929a59d7",
   "metadata": {},
   "outputs": [
    {
     "name": "stdout",
     "output_type": "stream",
     "text": [
      "(67905, 19)\n"
     ]
    }
   ],
   "source": [
    "#Check number of rows and columns.\n",
    "print(df.shape)"
   ]
  },
  {
   "cell_type": "code",
   "execution_count": 6,
   "id": "1c495392",
   "metadata": {},
   "outputs": [
    {
     "name": "stdout",
     "output_type": "stream",
     "text": [
      "company_name\n",
      "A - Agilent Technologies, Inc.           79.074615\n",
      "AAL -                                    16.040000\n",
      "AAL - American Airlines Group Inc.       20.505844\n",
      "AAP -                                   126.920000\n",
      "AAP - Advance Auto Parts, Inc.          127.387532\n",
      "                                           ...    \n",
      "ZS -                                     52.693333\n",
      "ZS - Zscaler, Inc.                       58.650500\n",
      "ZTS - Zoetis Inc.                       128.024889\n",
      "ZYNE -                                    4.163333\n",
      "ZYNE - Zynerba Pharmaceuticals, Inc.      4.222143\n",
      "Name: price_at_close, Length: 1486, dtype: float64\n"
     ]
    }
   ],
   "source": [
    "#Use groupby() and find the mean on your selected column/s.\n",
    "grouped_var = df.groupby('company_name')['price_at_close'].mean()\n",
    "print(grouped_var)"
   ]
  }
 ],
 "metadata": {
  "kernelspec": {
   "display_name": "Python 3 (ipykernel)",
   "language": "python",
   "name": "python3"
  },
  "language_info": {
   "codemirror_mode": {
    "name": "ipython",
    "version": 3
   },
   "file_extension": ".py",
   "mimetype": "text/x-python",
   "name": "python",
   "nbconvert_exporter": "python",
   "pygments_lexer": "ipython3",
   "version": "3.9.13"
  }
 },
 "nbformat": 4,
 "nbformat_minor": 5
}
