{
 "cells": [
  {
   "cell_type": "markdown",
   "id": "c977a815",
   "metadata": {},
   "source": [
    "### Load the Given data set fruit.csv, which contains the samples of fruit's mass, height, and name.  https://raw.githubusercontent.com/franklin-univ-data-science/data/master/fruit.csv columns\n",
    "* fruit name: mandarin, apple, lemon\n",
    "* mass\n",
    "* height"
   ]
  },
  {
   "cell_type": "code",
   "execution_count": 22,
   "id": "70157b4d",
   "metadata": {},
   "outputs": [
    {
     "data": {
      "text/html": [
       "<div>\n",
       "<style scoped>\n",
       "    .dataframe tbody tr th:only-of-type {\n",
       "        vertical-align: middle;\n",
       "    }\n",
       "\n",
       "    .dataframe tbody tr th {\n",
       "        vertical-align: top;\n",
       "    }\n",
       "\n",
       "    .dataframe thead th {\n",
       "        text-align: right;\n",
       "    }\n",
       "</style>\n",
       "<table border=\"1\" class=\"dataframe\">\n",
       "  <thead>\n",
       "    <tr style=\"text-align: right;\">\n",
       "      <th></th>\n",
       "      <th>fruit_name</th>\n",
       "      <th>mass</th>\n",
       "      <th>height</th>\n",
       "    </tr>\n",
       "  </thead>\n",
       "  <tbody>\n",
       "    <tr>\n",
       "      <th>0</th>\n",
       "      <td>lemon</td>\n",
       "      <td>116</td>\n",
       "      <td>7.9</td>\n",
       "    </tr>\n",
       "    <tr>\n",
       "      <th>1</th>\n",
       "      <td>lemon</td>\n",
       "      <td>116</td>\n",
       "      <td>8.5</td>\n",
       "    </tr>\n",
       "    <tr>\n",
       "      <th>2</th>\n",
       "      <td>lemon</td>\n",
       "      <td>116</td>\n",
       "      <td>8.0</td>\n",
       "    </tr>\n",
       "    <tr>\n",
       "      <th>3</th>\n",
       "      <td>lemon</td>\n",
       "      <td>116</td>\n",
       "      <td>8.1</td>\n",
       "    </tr>\n",
       "    <tr>\n",
       "      <th>4</th>\n",
       "      <td>lemon</td>\n",
       "      <td>118</td>\n",
       "      <td>8.0</td>\n",
       "    </tr>\n",
       "  </tbody>\n",
       "</table>\n",
       "</div>"
      ],
      "text/plain": [
       "  fruit_name  mass  height\n",
       "0      lemon   116     7.9\n",
       "1      lemon   116     8.5\n",
       "2      lemon   116     8.0\n",
       "3      lemon   116     8.1\n",
       "4      lemon   118     8.0"
      ]
     },
     "execution_count": 22,
     "metadata": {},
     "output_type": "execute_result"
    }
   ],
   "source": [
    "#Load the Given data set fruit.csv, which contains the samples of fruit's mass, height, and name.\n",
    "#https://raw.githubusercontent.com/franklin-univ-data-science/data/master/fruit.csv\n",
    "#columns\n",
    "#   fruit name: mandarin, apple, lemon\n",
    "#   mass\n",
    "#   height\n",
    "#import pandas\n",
    "#create the fruit dataframe from the fruit.csv file\n",
    "\n",
    "import pandas as pd\n",
    "\n",
    "fruit = pd.read_csv('https://raw.githubusercontent.com/franklin-univ-data-science/data/master/fruit.csv')\n",
    "fruit.head()"
   ]
  },
  {
   "cell_type": "markdown",
   "id": "810d2074",
   "metadata": {},
   "source": [
    "### Split the dataset into features variables and target variables"
   ]
  },
  {
   "cell_type": "code",
   "execution_count": 23,
   "id": "e432204a",
   "metadata": {},
   "outputs": [
    {
     "name": "stdout",
     "output_type": "stream",
     "text": [
      "Feature matrix is\n",
      "[[116.    7.9]\n",
      " [116.    8.5]\n",
      " [116.    8. ]\n",
      " [116.    8.1]\n",
      " [118.    8. ]]\n",
      "Target vector is\n",
      "[1 1 1 1 1]\n"
     ]
    }
   ],
   "source": [
    "#Define the features as mass and height, and the target as the variable \"isLemon\", \n",
    "#which is derived by yourself (if fruit is lemon then 1 else -1). \n",
    "#Print the feature matrix and target vector, respectively.\n",
    "#import numpy\n",
    "#create the 'isLemon' column, using np.where to define the target variable as either 1 or -1\n",
    "#create the features dataframe X, using iloc to define only the two feature columns mass and height\n",
    "#create the target variable array, using iloc to define the target column 'isLemon'\n",
    "import numpy as np\n",
    "\n",
    "fruit['isLemon'] = np.where(fruit['fruit_name']=='lemon',1,-1)\n",
    "X = fruit.iloc[:,1:3].values\n",
    "y = fruit.iloc[:,3].values\n",
    "print('Feature matrix is')\n",
    "print (X[:5])\n",
    "print('Target vector is')\n",
    "print(y[:5])"
   ]
  },
  {
   "cell_type": "markdown",
   "id": "78fa7711",
   "metadata": {},
   "source": [
    "### Create a scatterplot of the target variable by feature variables (mass and height)"
   ]
  },
  {
   "cell_type": "code",
   "execution_count": 5,
   "id": "05b99b6d",
   "metadata": {},
   "outputs": [
    {
     "data": {
      "image/png": "[encoded data removed]",
      "text/plain": [
       "<Figure size 640x480 with 1 Axes>"
      ]
     },
     "metadata": {},
     "output_type": "display_data"
    }
   ],
   "source": [
    "#Draw a scatter plot of the binary classification (isLemon) by two features (mass, height).\n",
    "#import matplotlib.pyplot\n",
    "#call the scatter plot function from matplotlib\n",
    "#plot the first 16 samples for (isLemon) from the fruit dataset\n",
    "#plot the last 24 samples for any samples not classified as Lemon from the fruit dataset\n",
    "#add x and y axis labels to the scatter plot\n",
    "#add the location of the scatter plot legend\n",
    "\n",
    "import matplotlib.pyplot as plt\n",
    "\n",
    "plt.scatter(X[:16,0], X[:16,1],color='red',marker='o',label='lemon')\n",
    "plt.scatter(X[16:,0], X[16:,1],color='blue',marker='x',label='not lemon')\n",
    "plt.xlabel('Mass')\n",
    "plt.ylabel('Height')\n",
    "plt.legend(loc='upper left')\n",
    "plt.show()"
   ]
  },
  {
   "cell_type": "markdown",
   "id": "8f7d3435",
   "metadata": {},
   "source": [
    "### Create a Classification Model using the Perceptron Algorithm"
   ]
  },
  {
   "cell_type": "markdown",
   "id": "a927b87d",
   "metadata": {},
   "source": [
    "#### Add a new variable to the dataframe"
   ]
  },
  {
   "cell_type": "code",
   "execution_count": 8,
   "id": "5111fd44",
   "metadata": {},
   "outputs": [
    {
     "data": {
      "text/plain": [
       "array([[  1. ,   1. , 116. ,   7.9],\n",
       "       [  1. ,   1. , 116. ,   8.5],\n",
       "       [  1. ,   1. , 116. ,   8. ],\n",
       "       [  1. ,   1. , 116. ,   8.1],\n",
       "       [  1. ,   1. , 118. ,   8. ]])"
      ]
     },
     "execution_count": 8,
     "metadata": {},
     "output_type": "execute_result"
    }
   ],
   "source": [
    "#Add x0 vector to the feature matrix X.  \n",
    "#define a new variable shape and pass in the number of rows from our feature matrix using indexing\n",
    "#define a new variable x0 and using the np.ones function we create an array filled with the integer one\n",
    "#the function takes an argument for shape which we pass in the shape variable created in the previous step\n",
    "#using the reshape function we change the shape of the array to the 1x1 matrix\n",
    "#using the np function hstack, we add the x0 vector to the existing feature matrix X\n",
    "#print X to confirm the x0 vector was added successfully\n",
    "\n",
    "shape = X.shape[0]\n",
    "x0 = np.ones(shape=shape).reshape(-1,1)\n",
    "X = np.hstack([x0,X])\n",
    "X[:5]"
   ]
  },
  {
   "cell_type": "markdown",
   "id": "b3b82457",
   "metadata": {},
   "source": [
    "#### Define the Perceptron Class, utilizing the Perceptron algorithm to create a predictive classification model"
   ]
  },
  {
   "cell_type": "code",
   "execution_count": 9,
   "id": "b88f4a21",
   "metadata": {},
   "outputs": [
    {
     "data": {
      "text/plain": [
       "<__main__.Perceptron at 0x28795cf14f0>"
      ]
     },
     "execution_count": 9,
     "metadata": {},
     "output_type": "execute_result"
    }
   ],
   "source": [
    "#define the Perceptron class and corresponding functions to run the Perceptron algorithm\n",
    "\n",
    "\n",
    "import numpy as np\n",
    "\n",
    "class Perceptron(object):\n",
    "    \"\"\"Perceptron classifier\n",
    "    \n",
    "    Parameters\n",
    "    -----------\n",
    "    eta: float\n",
    "       Learning rate (between 0.0 and 1.0)\n",
    "    n_iter: int\n",
    "       Passes over the training dataset.\n",
    "    random_state: int\n",
    "       Random number generator seed for random weight initialization\n",
    "    \n",
    "    Attributes\n",
    "    ----------\n",
    "    w_: 1d-array\n",
    "       Weights after fitting.\n",
    "    errors_: list\n",
    "       Number of missclassifications (updates) in each epoch.\n",
    "    \"\"\"\n",
    "    \n",
    "    def __init__(self, eta=0.01, n_iter=50, random_state=1):\n",
    "        self.eta = eta\n",
    "        self.n_iter = n_iter\n",
    "        self.random_state = random_state\n",
    "\n",
    "    def fit(self, X, y):\n",
    "        \"\"\"Fit training data.\n",
    "\n",
    "        Parameters\n",
    "        ----------\n",
    "        X: {array-like}, shape = [n_samples, n_features]\n",
    "           Training vectors, where n_samples is the number of samples and\n",
    "           n_features is the number of features.\n",
    "        y: array-like, shape = [n_samples]\n",
    "           Target values.\n",
    "\n",
    "        Returns\n",
    "        -------\n",
    "        self: object\n",
    "        \"\"\"\n",
    "        rgen = np.random.RandomState(self.random_state)\n",
    "        self.w_ = rgen.normal(loc=0.0, scale=0.01, size=X.shape[1]) # get the initial weight\n",
    "        self.errors_ = []\n",
    "\n",
    "        for _ in range(self.n_iter):\n",
    "            errors = 0\n",
    "            for xi, target in zip(X, y):\n",
    "                update = self.eta * (target - self.predict(xi))\n",
    "                self.w_ += update * xi\n",
    "                errors += int(update != 0.0)\n",
    "            self.errors_.append(errors)\n",
    "        return self\n",
    "\n",
    "    def net_input(self, X):\n",
    "        \"\"\"Calculate net input\"\"\"\n",
    "        return X @ self.w_\n",
    "  \n",
    "\n",
    "    def predict(self, X):\n",
    "        \"\"\"Return class label after unit step\"\"\"\n",
    "        return np.where(self.net_input(X) >= 0.0, 1, -1)\n",
    "\n",
    "\n",
    "#call the Perceptron class and pass in the arguments for the learning rate and the number of iterations = 100,000\n",
    "#fit the Perceptron algorithm with our feature matrix and target vector\n",
    "ppn = Perceptron(eta=0.1, n_iter=10**5)\n",
    "ppn.fit(X,y)"
   ]
  },
  {
   "cell_type": "markdown",
   "id": "90981e52",
   "metadata": {},
   "source": [
    "#### Plot the Errors for the Perceptron Algorithm"
   ]
  },
  {
   "cell_type": "code",
   "execution_count": 11,
   "id": "28af270c",
   "metadata": {},
   "outputs": [
    {
     "data": {
      "image/png": "[encoded data removed]",
      "text/plain": [
       "<Figure size 1000x800 with 1 Axes>"
      ]
     },
     "metadata": {},
     "output_type": "display_data"
    }
   ],
   "source": [
    "#import matplotlib.pyplot library\n",
    "#import matplotlib.pyplot figure function\n",
    "#call the figure function and pass in arguments for the size of the plot we want returned\n",
    "#call the plot function\n",
    "#pass in the argument for the x axis - the length of the errors_ list\n",
    "#pass in the argument for the y axis - the number of errors for each entry in errors_ list\n",
    "#add the x and y lables to the plot\n",
    "import matplotlib.pyplot as plt\n",
    "from matplotlib.pyplot import figure\n",
    "plt.figure(figsize=(10,8))\n",
    "plt.plot(range(1, len(ppn.errors_)+1), ppn.errors_, marker = 'o')\n",
    "plt.xlabel('Epochs')\n",
    "plt.ylabel('Number of updates')\n",
    "plt.show()"
   ]
  },
  {
   "cell_type": "markdown",
   "id": "34b1eb84",
   "metadata": {},
   "source": [
    "#### Return the number of errors from the last epoch in the Perceptron Algorithm"
   ]
  },
  {
   "cell_type": "code",
   "execution_count": 12,
   "id": "ffe4d198",
   "metadata": {},
   "outputs": [
    {
     "name": "stdout",
     "output_type": "stream",
     "text": [
      "Number of Errors: 0\n"
     ]
    }
   ],
   "source": [
    "#create a variable errors\n",
    "#call the errors_ object from the Perceptron class\n",
    "#pass in the last value from the errors_ list using indexing\n",
    "#using the print statement print the number of errors returned from the last epoch\n",
    "\n",
    "errors = ppn.errors_[-1]\n",
    "print('Number of Errors:', errors)"
   ]
  },
  {
   "cell_type": "markdown",
   "id": "8f633c06",
   "metadata": {},
   "source": [
    "### Utilize Feature Scaling to improve the Perceptron Algorithm performance"
   ]
  },
  {
   "cell_type": "code",
   "execution_count": 13,
   "id": "c5756499",
   "metadata": {},
   "outputs": [],
   "source": [
    "#import the StandardScaler module from scikit learn\n",
    "from sklearn.preprocessing import StandardScaler"
   ]
  },
  {
   "cell_type": "code",
   "execution_count": 24,
   "id": "4cabff87",
   "metadata": {},
   "outputs": [],
   "source": [
    "#call the StandardScaler module\n",
    "#fit the feature matrix to the StandardScaler\n",
    "#create the normalized feature matrix\n",
    "sc = StandardScaler()\n",
    "X_std = sc.fit_transform(X)"
   ]
  },
  {
   "cell_type": "code",
   "execution_count": 25,
   "id": "7e3be761",
   "metadata": {},
   "outputs": [],
   "source": [
    "#define a new variable shape and pass in the number of rows from our feature matrix using indexing\n",
    "#define a new variable x0 and using the np.ones function we create an array filled with the integer one\n",
    "#the function takes an argument for shape which we pass in the shape variable created in the previous step\n",
    "#using the reshape function we change the shape of the array to the 1x1 matrix\n",
    "#using the np function hstack, we add the x0 vector to the existing feature matrix X\n",
    "shape = X_std.shape[0]\n",
    "x0 = np.ones(shape=shape).reshape(-1,1)\n",
    "X_std = np.hstack([x0,X_std])"
   ]
  },
  {
   "cell_type": "code",
   "execution_count": 26,
   "id": "e13c7c9b",
   "metadata": {},
   "outputs": [
    {
     "data": {
      "text/plain": [
       "<__main__.Perceptron at 0x2879d785eb0>"
      ]
     },
     "execution_count": 26,
     "metadata": {},
     "output_type": "execute_result"
    }
   ],
   "source": [
    "#define the Perceptron class and corresponding functions to run the Perceptron algorithm\n",
    "class Perceptron(object):\n",
    "    \"\"\"Perceptron classifier\n",
    "    \n",
    "    Parameters\n",
    "    -----------\n",
    "    eta: float\n",
    "       Learning rate (between 0.0 and 1.0)\n",
    "    n_iter: int\n",
    "       Passes over the training dataset.\n",
    "    random_state: int\n",
    "       Random number generator seed for random weight initialization\n",
    "    \n",
    "    Attributes\n",
    "    ----------\n",
    "    w_: 1d-array\n",
    "       Weights after fitting.\n",
    "    errors_: list\n",
    "       Number of missclassifications (updates) in each epoch.\n",
    "    \"\"\"\n",
    "    \n",
    "    def __init__(self, eta=0.01, n_iter=50, random_state=1):\n",
    "        self.eta = eta\n",
    "        self.n_iter = n_iter\n",
    "        self.random_state = random_state\n",
    "\n",
    "    def fit(self, X, y):\n",
    "        \"\"\"Fit training data.\n",
    "\n",
    "        Parameters\n",
    "        ----------\n",
    "        X: {array-like}, shape = [n_samples, n_features]\n",
    "           Training vectors, where n_samples is the number of samples and\n",
    "           n_features is the number of features.\n",
    "        y: array-like, shape = [n_samples]\n",
    "           Target values.\n",
    "\n",
    "        Returns\n",
    "        -------\n",
    "        self: object\n",
    "        \"\"\"\n",
    "        rgen = np.random.RandomState(self.random_state)\n",
    "        self.w_ = rgen.normal(loc=0.0, scale=0.01, size=X.shape[1]) # get the initial weight\n",
    "        self.errors_ = []\n",
    "\n",
    "        for _ in range(self.n_iter):\n",
    "            errors = 0\n",
    "            for xi, target in zip(X, y):\n",
    "                update = self.eta * (target - self.predict(xi))\n",
    "                self.w_ += update * xi\n",
    "                errors += int(update != 0.0)\n",
    "            self.errors_.append(errors)\n",
    "        return self\n",
    "\n",
    "    def net_input(self, X):\n",
    "        \"\"\"Calculate net input\"\"\"\n",
    "        return X @ self.w_\n",
    "  \n",
    "\n",
    "    def predict(self, X):\n",
    "        \"\"\"Return class label after unit step\"\"\"\n",
    "        return np.where(self.net_input(X) >= 0.0, 1, -1)\n",
    "\n",
    "\n",
    "#call the Perceptron class and pass in the arguments for the learning rate and the number of iterations = 100,000\n",
    "#fit the Perceptron algorithm with our feature matrix and target vector\n",
    "ppn = Perceptron(n_iter=10)\n",
    "ppn.fit(X_std,y)"
   ]
  },
  {
   "cell_type": "code",
   "execution_count": 27,
   "id": "c70f0981",
   "metadata": {},
   "outputs": [
    {
     "data": {
      "image/png": "[encoded data removed]",
      "text/plain": [
       "<Figure size 640x480 with 1 Axes>"
      ]
     },
     "metadata": {},
     "output_type": "display_data"
    }
   ],
   "source": [
    "#call the plot function\n",
    "#pass in the argument for the x axis - the length of the errors_ list\n",
    "#pass in the argument for the y axis - the number of errors for each entry in errors_ list\n",
    "#add the x and y lables to the plot\n",
    "plt.plot(range(1, len(ppn.errors_)+1),ppn.errors_,marker='o')\n",
    "plt.xlabel('Epochs')\n",
    "plt.ylabel('Number of updates')\n",
    "plt.show()"
   ]
  },
  {
   "cell_type": "code",
   "execution_count": null,
   "id": "0f3bf66e",
   "metadata": {},
   "outputs": [],
   "source": []
  }
 ],
 "metadata": {
  "kernelspec": {
   "display_name": "Python 3 (ipykernel)",
   "language": "python",
   "name": "python3"
  },
  "language_info": {
   "codemirror_mode": {
    "name": "ipython",
    "version": 3
   },
   "file_extension": ".py",
   "mimetype": "text/x-python",
   "name": "python",
   "nbconvert_exporter": "python",
   "pygments_lexer": "ipython3",
   "version": "3.9.13"
  }
 },
 "nbformat": 4,
 "nbformat_minor": 5
}
