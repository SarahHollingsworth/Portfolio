{
 "cells": [
  {
   "cell_type": "markdown",
   "id": "bb3d8909",
   "metadata": {},
   "source": [
    "### Feature Importance utiliizing Scikit Learn"
   ]
  },
  {
   "cell_type": "markdown",
   "id": "e79274a5",
   "metadata": {},
   "source": [
    "#### Import the diabetes dataset from scikit learn"
   ]
  },
  {
   "cell_type": "code",
   "execution_count": 9,
   "id": "417ef2dd",
   "metadata": {},
   "outputs": [
    {
     "data": {
      "text/html": [
       "<div>\n",
       "<style scoped>\n",
       "    .dataframe tbody tr th:only-of-type {\n",
       "        vertical-align: middle;\n",
       "    }\n",
       "\n",
       "    .dataframe tbody tr th {\n",
       "        vertical-align: top;\n",
       "    }\n",
       "\n",
       "    .dataframe thead th {\n",
       "        text-align: right;\n",
       "    }\n",
       "</style>\n",
       "<table border=\"1\" class=\"dataframe\">\n",
       "  <thead>\n",
       "    <tr style=\"text-align: right;\">\n",
       "      <th></th>\n",
       "      <th>age</th>\n",
       "      <th>sex</th>\n",
       "      <th>bmi</th>\n",
       "      <th>bp</th>\n",
       "      <th>s1</th>\n",
       "      <th>s2</th>\n",
       "      <th>s3</th>\n",
       "      <th>s4</th>\n",
       "      <th>s5</th>\n",
       "      <th>s6</th>\n",
       "    </tr>\n",
       "  </thead>\n",
       "  <tbody>\n",
       "    <tr>\n",
       "      <th>0</th>\n",
       "      <td>0.038076</td>\n",
       "      <td>0.050680</td>\n",
       "      <td>0.061696</td>\n",
       "      <td>0.021872</td>\n",
       "      <td>-0.044223</td>\n",
       "      <td>-0.034821</td>\n",
       "      <td>-0.043401</td>\n",
       "      <td>-0.002592</td>\n",
       "      <td>0.019907</td>\n",
       "      <td>-0.017646</td>\n",
       "    </tr>\n",
       "    <tr>\n",
       "      <th>1</th>\n",
       "      <td>-0.001882</td>\n",
       "      <td>-0.044642</td>\n",
       "      <td>-0.051474</td>\n",
       "      <td>-0.026328</td>\n",
       "      <td>-0.008449</td>\n",
       "      <td>-0.019163</td>\n",
       "      <td>0.074412</td>\n",
       "      <td>-0.039493</td>\n",
       "      <td>-0.068332</td>\n",
       "      <td>-0.092204</td>\n",
       "    </tr>\n",
       "    <tr>\n",
       "      <th>2</th>\n",
       "      <td>0.085299</td>\n",
       "      <td>0.050680</td>\n",
       "      <td>0.044451</td>\n",
       "      <td>-0.005670</td>\n",
       "      <td>-0.045599</td>\n",
       "      <td>-0.034194</td>\n",
       "      <td>-0.032356</td>\n",
       "      <td>-0.002592</td>\n",
       "      <td>0.002861</td>\n",
       "      <td>-0.025930</td>\n",
       "    </tr>\n",
       "    <tr>\n",
       "      <th>3</th>\n",
       "      <td>-0.089063</td>\n",
       "      <td>-0.044642</td>\n",
       "      <td>-0.011595</td>\n",
       "      <td>-0.036656</td>\n",
       "      <td>0.012191</td>\n",
       "      <td>0.024991</td>\n",
       "      <td>-0.036038</td>\n",
       "      <td>0.034309</td>\n",
       "      <td>0.022688</td>\n",
       "      <td>-0.009362</td>\n",
       "    </tr>\n",
       "    <tr>\n",
       "      <th>4</th>\n",
       "      <td>0.005383</td>\n",
       "      <td>-0.044642</td>\n",
       "      <td>-0.036385</td>\n",
       "      <td>0.021872</td>\n",
       "      <td>0.003935</td>\n",
       "      <td>0.015596</td>\n",
       "      <td>0.008142</td>\n",
       "      <td>-0.002592</td>\n",
       "      <td>-0.031988</td>\n",
       "      <td>-0.046641</td>\n",
       "    </tr>\n",
       "  </tbody>\n",
       "</table>\n",
       "</div>"
      ],
      "text/plain": [
       "        age       sex       bmi        bp        s1        s2        s3  \\\n",
       "0  0.038076  0.050680  0.061696  0.021872 -0.044223 -0.034821 -0.043401   \n",
       "1 -0.001882 -0.044642 -0.051474 -0.026328 -0.008449 -0.019163  0.074412   \n",
       "2  0.085299  0.050680  0.044451 -0.005670 -0.045599 -0.034194 -0.032356   \n",
       "3 -0.089063 -0.044642 -0.011595 -0.036656  0.012191  0.024991 -0.036038   \n",
       "4  0.005383 -0.044642 -0.036385  0.021872  0.003935  0.015596  0.008142   \n",
       "\n",
       "         s4        s5        s6  \n",
       "0 -0.002592  0.019907 -0.017646  \n",
       "1 -0.039493 -0.068332 -0.092204  \n",
       "2 -0.002592  0.002861 -0.025930  \n",
       "3  0.034309  0.022688 -0.009362  \n",
       "4 -0.002592 -0.031988 -0.046641  "
      ]
     },
     "execution_count": 9,
     "metadata": {},
     "output_type": "execute_result"
    }
   ],
   "source": [
    "#import numpy\n",
    "#import pandas\n",
    "#import StandardScaler from the scikit learn library\n",
    "#import the datasets module from the scikit learn library\n",
    "import numpy as np\n",
    "import pandas as pd\n",
    "from sklearn.preprocessing import StandardScaler\n",
    "from sklearn import datasets\n",
    "\n",
    "#create the diabetes variable and assign with the diabetes \n",
    "\n",
    "diabetes = datasets.load_diabetes()\n",
    "\n",
    "#create the feature matrix - wine_X and assign with the diabetes data\n",
    "#create the target vector - wine_y and assign with the target data\n",
    "\n",
    "diabetes_X = diabetes.data\n",
    "diabetes_y = diabetes.target\n",
    "\n",
    "#create the diabetes dataframe from the diabetes dataset\n",
    "#call the pandas dataframe function\n",
    "##for the data variable pass in diabetes.data\n",
    "##for the columns variable pass in the diabetes.feature_names\n",
    "#print the first 5 rows to confirm our data loaded sucessfully\n",
    "\n",
    "diabetes_df = pd.DataFrame(data=diabetes.data, columns=diabetes.feature_names)\n",
    "diabetes_df.head()"
   ]
  },
  {
   "cell_type": "markdown",
   "id": "7de9d880",
   "metadata": {},
   "source": [
    "#### Import the Random Forest Classifier from scikit learn\n",
    "#### Split the dataset into training and test datasets"
   ]
  },
  {
   "cell_type": "code",
   "execution_count": 10,
   "id": "603f2b02",
   "metadata": {},
   "outputs": [],
   "source": [
    "#import the RandomForestClassifier from the scikit learn library\n",
    "#import the train_test_split module from the sklearn library\n",
    "#import the Matplotlib library\n",
    "\n",
    "\n",
    "from sklearn.ensemble import RandomForestClassifier\n",
    "from sklearn.model_selection import train_test_split\n",
    "import matplotlib.pyplot as plt\n",
    "\n",
    "\n",
    "#create the train and test sets for both wine_X and wine_y\n",
    "#create the X_train, X_test, y_train, and y_test variables\n",
    "#call the train_test_split module to split the data into the above variables\n",
    "##pass in the X and y variables\n",
    "##assign the test_size parameter with the value 0.30 to split the data set into 30 percent test\n",
    "##assign the random_state parameter with the value of 1, so the train and test sets are the same everytime we run the code\n",
    "\n",
    "X_train,X_test,y_train,y_test = train_test_split(diabetes_X,diabetes_y,test_size=0.3,random_state=1)"
   ]
  },
  {
   "cell_type": "markdown",
   "id": "7cc7e200",
   "metadata": {},
   "source": [
    "#### Create the feature labels\n",
    "#### Fit the Random Forest Classifier\n",
    "#### Create the importance variable and assign the values by calling the feature importance function "
   ]
  },
  {
   "cell_type": "code",
   "execution_count": 11,
   "id": "db6eb118",
   "metadata": {},
   "outputs": [],
   "source": [
    "#create the feat_labels variable and assign with the diabetes_df column names\n",
    "#create the forest variable and call the RandomFOrestClassifier module\n",
    "##for the n_estimator parameter pass in the value 500\n",
    "##for the random_state parameter pass in the value 1\n",
    "#call the fit function on the forest variable and pass in the X_train and y_train datasets\n",
    "#create the importance variable, assign the values by calling the feature_importance_ function on the forest variable\n",
    "#create the indices variable, assign the values by calling the numpy argosort function\n",
    "##pass in the importances variable and using slicing to sort largest to smallest\n",
    "\n",
    "feat_labels = diabetes_df.columns\n",
    "forest = RandomForestClassifier(n_estimators=500,random_state=1)\n",
    "forest.fit(X_train,y_train)\n",
    "importances = forest.feature_importances_\n",
    "indices = np.argsort(importances)[::-1]"
   ]
  },
  {
   "cell_type": "markdown",
   "id": "18e8f70e",
   "metadata": {},
   "source": [
    "#### Plot the Feature Importance"
   ]
  },
  {
   "cell_type": "code",
   "execution_count": 12,
   "id": "a9d12dd1",
   "metadata": {},
   "outputs": [
    {
     "data": {
      "image/png": "[encoded data removed]",
      "text/plain": [
       "<Figure size 640x480 with 1 Axes>"
      ]
     },
     "metadata": {},
     "output_type": "display_data"
    }
   ],
   "source": [
    "#call the title function from the matplotlib library, assign the title 'Feature Importance'\n",
    "#call the bar function\n",
    "##assign the x-axis with the length of the X_train dataset\n",
    "##assign the y-axis with the values from the importances variable by indices\n",
    "##assign the align parameter with the variable center\n",
    "#call the xticks function\n",
    "##assign with the length of the X_train dataset\n",
    "##assign the label with the feat_label by indices, \n",
    "##assign the rotation variable with the value 90 to rotate by 90 degrees\n",
    "#call the xlim function, assign with the range -1 to the length of the X_train dataset\n",
    "#call the tight_layout function to compress the layout of the plot\n",
    "#call the show function to display the graph\n",
    "plt.title('Feature Importance')\n",
    "plt.bar(range(X_train.shape[1]),importances[indices],align='center')\n",
    "plt.xticks(range(X_train.shape[1]),feat_labels[indices],rotation=90)\n",
    "plt.xlim([-1,X_train.shape[1]])\n",
    "plt.tight_layout()\n",
    "plt.show()"
   ]
  },
  {
   "cell_type": "markdown",
   "id": "8cd9ccec",
   "metadata": {},
   "source": [
    "#### Print the Feature Importance from largest to smallest"
   ]
  },
  {
   "cell_type": "code",
   "execution_count": 16,
   "id": "3e0596df",
   "metadata": {},
   "outputs": [
    {
     "name": "stdout",
     "output_type": "stream",
     "text": [
      "1) bmi                  0.125302\n",
      "2) s5                   0.122461\n",
      "3) age                  0.111714\n",
      "4) s2                   0.111433\n",
      "5) bp                   0.111149\n",
      "6) s1                   0.110946\n",
      "7) s6                   0.109765\n",
      "8) s3                   0.108642\n",
      "9) s4                   0.060958\n",
      "10) sex                  0.027629\n"
     ]
    }
   ],
   "source": [
    "#once we confirm our top 3\n",
    "#use a for loop and run the loop for length of the first three features\n",
    "#print the number of the indices, the name of the feature label, and the value of the importance\n",
    "for f in range(len(indices)):\n",
    "    print('{}) {:<20} {:6f}'.format(f+1,feat_labels[indices[f]],importances[indices[f]]))"
   ]
  }
 ],
 "metadata": {
  "kernelspec": {
   "display_name": "Python 3 (ipykernel)",
   "language": "python",
   "name": "python3"
  },
  "language_info": {
   "codemirror_mode": {
    "name": "ipython",
    "version": 3
   },
   "file_extension": ".py",
   "mimetype": "text/x-python",
   "name": "python",
   "nbconvert_exporter": "python",
   "pygments_lexer": "ipython3",
   "version": "3.9.13"
  }
 },
 "nbformat": 4,
 "nbformat_minor": 5
}
